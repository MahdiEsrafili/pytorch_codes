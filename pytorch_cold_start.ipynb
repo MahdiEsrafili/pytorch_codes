{
 "cells": [
  {
   "cell_type": "code",
   "execution_count": 1,
   "metadata": {},
   "outputs": [],
   "source": [
    "import torch\n",
    "import torch.nn as nn"
   ]
  },
  {
   "cell_type": "code",
   "execution_count": 2,
   "metadata": {},
   "outputs": [
    {
     "data": {
      "text/plain": [
       "tensor([[1., 1.],\n",
       "        [1., 1.]])"
      ]
     },
     "execution_count": 2,
     "metadata": {},
     "output_type": "execute_result"
    }
   ],
   "source": [
    "a = torch.ones(2,2)\n",
    "a"
   ]
  },
  {
   "cell_type": "code",
   "execution_count": 5,
   "metadata": {},
   "outputs": [
    {
     "data": {
      "text/plain": [
       "tensor([[1, 3],\n",
       "        [1, 0]])"
      ]
     },
     "execution_count": 5,
     "metadata": {},
     "output_type": "execute_result"
    }
   ],
   "source": [
    "b= torch.randint(0,10,(2,2))\n",
    "b"
   ]
  },
  {
   "cell_type": "code",
   "execution_count": 7,
   "metadata": {},
   "outputs": [
    {
     "data": {
      "text/plain": [
       "tensor([[2., 4.],\n",
       "        [2., 1.]])"
      ]
     },
     "execution_count": 7,
     "metadata": {},
     "output_type": "execute_result"
    }
   ],
   "source": [
    "torch.add(a,b)"
   ]
  },
  {
   "cell_type": "code",
   "execution_count": 8,
   "metadata": {},
   "outputs": [
    {
     "data": {
      "text/plain": [
       "torch.Size([2, 2])"
      ]
     },
     "execution_count": 8,
     "metadata": {},
     "output_type": "execute_result"
    }
   ],
   "source": [
    "b.shape"
   ]
  },
  {
   "cell_type": "code",
   "execution_count": 10,
   "metadata": {},
   "outputs": [
    {
     "data": {
      "text/plain": [
       "torch.Size([4])"
      ]
     },
     "execution_count": 10,
     "metadata": {},
     "output_type": "execute_result"
    }
   ],
   "source": [
    "b.reshape(-1).shape"
   ]
  },
  {
   "cell_type": "code",
   "execution_count": 11,
   "metadata": {},
   "outputs": [
    {
     "data": {
      "text/plain": [
       "tensor([4, 2])"
      ]
     },
     "execution_count": 11,
     "metadata": {},
     "output_type": "execute_result"
    }
   ],
   "source": [
    "torch.tensor([4,2])"
   ]
  },
  {
   "cell_type": "code",
   "execution_count": 13,
   "metadata": {},
   "outputs": [
    {
     "ename": "RuntimeError",
     "evalue": "only Tensors of floating point dtype can require gradients",
     "output_type": "error",
     "traceback": [
      "\u001b[0;31m---------------------------------------------------------------------------\u001b[0m",
      "\u001b[0;31mRuntimeError\u001b[0m                              Traceback (most recent call last)",
      "\u001b[0;32m<ipython-input-13-14a807f7f47c>\u001b[0m in \u001b[0;36m<module>\u001b[0;34m\u001b[0m\n\u001b[0;32m----> 1\u001b[0;31m \u001b[0mb\u001b[0m\u001b[0;34m.\u001b[0m\u001b[0mrequires_grad_\u001b[0m\u001b[0;34m(\u001b[0m\u001b[0;32mTrue\u001b[0m\u001b[0;34m)\u001b[0m\u001b[0;34m\u001b[0m\u001b[0;34m\u001b[0m\u001b[0m\n\u001b[0m",
      "\u001b[0;31mRuntimeError\u001b[0m: only Tensors of floating point dtype can require gradients"
     ]
    }
   ],
   "source": [
    "b.requires_grad_(True)"
   ]
  },
  {
   "cell_type": "code",
   "execution_count": 35,
   "metadata": {},
   "outputs": [],
   "source": [
    "x = torch.tensor([[1.,2.],[3.,4.]], requires_grad = True)"
   ]
  },
  {
   "cell_type": "code",
   "execution_count": 36,
   "metadata": {},
   "outputs": [
    {
     "data": {
      "text/plain": [
       "tensor([[1., 2.],\n",
       "        [3., 4.]], requires_grad=True)"
      ]
     },
     "execution_count": 36,
     "metadata": {},
     "output_type": "execute_result"
    }
   ],
   "source": [
    "x"
   ]
  },
  {
   "cell_type": "code",
   "execution_count": 37,
   "metadata": {},
   "outputs": [],
   "source": [
    "y = x**2 +1"
   ]
  },
  {
   "cell_type": "code",
   "execution_count": 38,
   "metadata": {},
   "outputs": [
    {
     "data": {
      "text/plain": [
       "tensor(8.5000, grad_fn=<MeanBackward0>)"
      ]
     },
     "execution_count": 38,
     "metadata": {},
     "output_type": "execute_result"
    }
   ],
   "source": [
    "z= y.mean()\n",
    "z"
   ]
  },
  {
   "cell_type": "code",
   "execution_count": 39,
   "metadata": {},
   "outputs": [],
   "source": [
    "z.backward()"
   ]
  },
  {
   "cell_type": "code",
   "execution_count": 40,
   "metadata": {},
   "outputs": [
    {
     "data": {
      "text/plain": [
       "tensor([[0.5000, 1.0000],\n",
       "        [1.5000, 2.0000]])"
      ]
     },
     "execution_count": 40,
     "metadata": {},
     "output_type": "execute_result"
    }
   ],
   "source": [
    "x.grad"
   ]
  },
  {
   "cell_type": "code",
   "execution_count": 30,
   "metadata": {},
   "outputs": [
    {
     "data": {
      "text/plain": [
       "tensor([[1., 2.],\n",
       "        [3., 4.]], requires_grad=True)"
      ]
     },
     "execution_count": 30,
     "metadata": {},
     "output_type": "execute_result"
    }
   ],
   "source": [
    "x"
   ]
  },
  {
   "cell_type": "code",
   "execution_count": 42,
   "metadata": {},
   "outputs": [
    {
     "data": {
      "text/plain": [
       "False"
      ]
     },
     "execution_count": 42,
     "metadata": {},
     "output_type": "execute_result"
    }
   ],
   "source": [
    "torch.cuda.is_available()"
   ]
  },
  {
   "cell_type": "code",
   "execution_count": 53,
   "metadata": {},
   "outputs": [],
   "source": []
  },
  {
   "cell_type": "code",
   "execution_count": 61,
   "metadata": {},
   "outputs": [],
   "source": [
    "def forward(x, w):\n",
    "    r  = w*x\n",
    "    return r\n"
   ]
  },
  {
   "cell_type": "code",
   "execution_count": 62,
   "metadata": {},
   "outputs": [],
   "source": [
    "def loss(y, y_pred):\n",
    "    l = ((y-y_pred)**2).mean()\n",
    "    return l"
   ]
  },
  {
   "cell_type": "code",
   "execution_count": 70,
   "metadata": {},
   "outputs": [
    {
     "name": "stdout",
     "output_type": "stream",
     "text": [
      "epoch: 0, loss: 44.0, w: 0.8799999952316284\n",
      "epoch: 10, loss: 0.0004047722613904625, w: 1.996603012084961\n",
      "epoch: 20, loss: 3.7037921618576775e-09, w: 1.9999897480010986\n",
      "epoch: 30, loss: 0.0, w: 2.0\n",
      "epoch: 40, loss: 0.0, w: 2.0\n",
      "epoch: 50, loss: 0.0, w: 2.0\n",
      "epoch: 60, loss: 0.0, w: 2.0\n",
      "epoch: 70, loss: 0.0, w: 2.0\n",
      "epoch: 80, loss: 0.0, w: 2.0\n",
      "epoch: 90, loss: 0.0, w: 2.0\n"
     ]
    }
   ],
   "source": [
    "epoch = 100\n",
    "lr = 0.02\n",
    "x =torch.tensor([1,2,3,4,5], dtype= torch.float32)\n",
    "y = torch.tensor([2,4,6,8,10], dtype = torch.float32)\n",
    "w = torch.tensor(0, dtype = torch.float32, requires_grad = True)\n",
    "\n",
    "for e in range(epoch):\n",
    "    y_pred = forward(x, w)\n",
    "    l = loss(y , y_pred)\n",
    "    l.backward()\n",
    "    with torch.no_grad():\n",
    "        w -= lr*w.grad\n",
    "    w.grad.zero_()\n",
    "    if e%10 == 0:\n",
    "        print(f'epoch: {e}, loss: {l}, w: {w}')"
   ]
  },
  {
   "cell_type": "code",
   "execution_count": 75,
   "metadata": {},
   "outputs": [
    {
     "name": "stdout",
     "output_type": "stream",
     "text": [
      "epoch: 0, loss: 44.0, w: 0.8799999952316284\n",
      "epoch: 10, loss: 0.0004047722613904625, w: 1.996603012084961\n",
      "epoch: 20, loss: 3.7037921618576775e-09, w: 1.9999897480010986\n",
      "epoch: 30, loss: 0.0, w: 2.0\n",
      "epoch: 40, loss: 0.0, w: 2.0\n",
      "epoch: 50, loss: 0.0, w: 2.0\n",
      "epoch: 60, loss: 0.0, w: 2.0\n",
      "epoch: 70, loss: 0.0, w: 2.0\n",
      "epoch: 80, loss: 0.0, w: 2.0\n",
      "epoch: 90, loss: 0.0, w: 2.0\n"
     ]
    }
   ],
   "source": [
    "\n",
    "epoch = 100\n",
    "lr = 0.02\n",
    "x =torch.tensor([1,2,3,4,5], dtype= torch.float32)\n",
    "y = torch.tensor([2,4,6,8,10], dtype = torch.float32)\n",
    "w = torch.tensor(0, dtype = torch.float32, requires_grad = True)\n",
    "loss = nn.MSELoss()\n",
    "optim = torch.optim.SGD([w], lr =lr )\n",
    "def forward(x):\n",
    "    r  = w*x\n",
    "    return r\n",
    "\n",
    "for e in range(epoch):\n",
    "    y_pred = forward(x)\n",
    "    l = loss(y , y_pred)\n",
    "    l.backward()\n",
    "    optim.step()\n",
    "    optim.zero_grad()\n",
    "    if e%10 == 0:\n",
    "        print(f'epoch: {e}, loss: {l}, w: {w}')"
   ]
  },
  {
   "cell_type": "code",
   "execution_count": 86,
   "metadata": {},
   "outputs": [
    {
     "name": "stdout",
     "output_type": "stream",
     "text": [
      "epoch: 0, loss: 13.676753997802734, w: 2.7837259769439697\n",
      "epoch: 10, loss: 0.005212053656578064, w: 1.9940742254257202\n",
      "epoch: 20, loss: 0.0003607481485232711, w: 1.9849683046340942\n",
      "epoch: 30, loss: 0.00019559597421903163, w: 1.9887137413024902\n",
      "epoch: 40, loss: 0.00010649901378201321, w: 1.991668462753296\n",
      "epoch: 50, loss: 5.798523488920182e-05, w: 1.9938520193099976\n",
      "epoch: 60, loss: 3.1571682484354824e-05, w: 1.9954636096954346\n",
      "epoch: 70, loss: 1.719064312055707e-05, w: 1.9966527223587036\n",
      "epoch: 80, loss: 9.359611794934608e-06, w: 1.9975299835205078\n",
      "epoch: 90, loss: 5.096231234347215e-06, w: 1.9981775283813477\n",
      "epoch: 100, loss: 2.775008852040628e-06, w: 1.998655080795288\n"
     ]
    }
   ],
   "source": [
    "x = torch.tensor([[1],[2], [3], [4]], dtype = torch.float32)\n",
    "y = torch.tensor([[2], [4], [6], [8]], dtype = torch.float32)\n",
    "epoch = 101\n",
    "lr = 0.1\n",
    "n_sample, n_features = x.shape\n",
    "model = nn.Linear(n_features, n_features)\n",
    "loss = nn.MSELoss()\n",
    "optim = torch.optim.SGD(model.parameters(), lr = lr)\n",
    "\n",
    "\n",
    "for e in range(epoch):\n",
    "    y_pred = model(x)\n",
    "    l = loss(y_pred, y)\n",
    "    l.backward()\n",
    "    optim.step()\n",
    "    optim.zero_grad()\n",
    "    if e%10==0:\n",
    "        [w, b] = model.parameters()\n",
    "        print(f'epoch: {e}, loss: {l}, w: {w[0][0]}')"
   ]
  },
  {
   "cell_type": "code",
   "execution_count": 78,
   "metadata": {},
   "outputs": [
    {
     "name": "stdout",
     "output_type": "stream",
     "text": [
      "4 1\n"
     ]
    }
   ],
   "source": []
  },
  {
   "cell_type": "code",
   "execution_count": null,
   "metadata": {},
   "outputs": [],
   "source": [
    "model = nn.Linear()"
   ]
  },
  {
   "cell_type": "code",
   "execution_count": null,
   "metadata": {},
   "outputs": [],
   "source": []
  }
 ],
 "metadata": {
  "kernelspec": {
   "display_name": "yolo5",
   "language": "python",
   "name": "yolo5"
  },
  "language_info": {
   "codemirror_mode": {
    "name": "ipython",
    "version": 3
   },
   "file_extension": ".py",
   "mimetype": "text/x-python",
   "name": "python",
   "nbconvert_exporter": "python",
   "pygments_lexer": "ipython3",
   "version": "3.8.5"
  }
 },
 "nbformat": 4,
 "nbformat_minor": 4
}
